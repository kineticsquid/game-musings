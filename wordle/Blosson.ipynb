{
 "cells": [
  {
   "cell_type": "markdown",
   "id": "43f6eab1-84bb-4789-9428-098beb614f62",
   "metadata": {},
   "source": [
    "# Blossom Max Score\n",
    "\n",
    "This calculates the maximum score for a set of Blossom letter inputs using the North American Scrabble Player's official word list: http://www.scrabbleplayers.org/w/NASPA_Zyzzyva_Linux_Installation."
   ]
  },
  {
   "cell_type": "markdown",
   "id": "827158bf",
   "metadata": {},
   "source": [
    "## Input\n",
    "\n",
    "Set input letters as follows. Define variable `petal_letters` containing the 6 letters on the petals of the Blossom puzzle. E.g. `petal_letters = \"ABDCEF\"`. Define variable `mandatory_letter` contining the mandatory letter in the center pf the Blossom puzzle. Eg. `mandatory_letter = G`."
   ]
  },
  {
   "cell_type": "code",
   "execution_count": 4,
   "metadata": {},
   "outputs": [],
   "source": [
    "# Define these two variables\n",
    "petal_letters = \"ELGHNT\"\n",
    "mandatory_letter = \"I\""
   ]
  },
  {
   "cell_type": "code",
   "execution_count": 5,
   "id": "ae423348-8237-45a9-a8d6-3203fdc0aa13",
   "metadata": {},
   "outputs": [
    {
     "name": "stdout",
     "output_type": "stream",
     "text": [
      "Found 238 words of at least 6 characters.\n",
      "['ENLIGHTENING', 'HIGHLIGHTING', 'GILLNETTING', 'HEIGHTENING', 'INTELLIGENT', 'LENGTHENING', 'EIGHTEENTH', 'ENLIGHTING', 'LIGHTENING', 'LIGHTTIGHT', 'NINETEENTH', 'TELNETTING', 'TIGHTENING', 'EIGHTIETH', 'ENLIGHTEN', 'ENTITLING', 'GEHLENITE', 'GELIGNITE', 'GIGGITING', 'HIGHLIGHT', 'INLETTING', 'INTITLING', 'LIGHTNING', 'NEGLIGENT', 'NINETIETH', 'TELNETING', 'EIGHTEEN', 'ENGINING', 'GENTLING', 'GIGGLING', 'GINGELLI', 'GINGILLI', 'GLEETING', 'GLENTING', 'GLINTING', 'HEIGHTEN', 'HIGGLING', 'HIGHTING', 'IGNITING', 'LENITING', 'LIGHTING', 'LITTLING', 'NEGLIGEE', 'NEIGHING', 'NETTLING', 'NIGGLING', 'NINETEEN', 'TEETHING', 'THIGGING', 'THINNING', 'TINGEING', 'TINGLING', 'TITTLING', 'ENLIGHT', 'ENTITLE', 'ETTLING', 'GEITING', 'GELLING', 'GENNING', 'GENTILE', 'GETTING', 'GHILLIE', 'GIGGING', 'GILLING', 'GILLNET', 'GINGELI', 'GINGILI', 'GINNING', 'GITTING', 'GLEEING', 'GLEENIE', 'HEELING', 'HEIGHTH', 'HEILING', 'HELLING', 'HENNING', 'HENTING', 'HIGHING', 'HILLING', 'HILTING', 'HINGING', 'HINTING', 'HITTING', 'INTITLE', 'LEGGING', 'LENGING', 'LENIENT', 'LETTING', 'LIGGING', 'LIGHTEN', 'LIGNITE', 'LILLING', 'LILTING', 'LINNING', 'LINTING', 'LITHING', 'LITHITE', 'LITTLIE', 'LITTLIN', 'NEGLIGE', 'NETTING', 'NIGHING', 'NIGHTIE', 'NILLING', 'NITHING', 'TEENING', 'TELLING', 'TENTING', 'THEEING', 'THEELIN', 'THIGGIT', 'TIGGING', 'TIGHTEN', 'TILLING', 'TILLITE', 'TILTING', 'TINGING', 'TINNING', 'TINTING', 'TITHING', 'TITLING', 'TITTING', 'EELING', 'EGGING', 'EIGHTH', 'ELEGIT', 'ENGILT', 'ENGINE', 'GEEING', 'GEGGIE', 'GENTIL', 'GIEING', 'GIGGIT', 'GIGGLE', 'GIGLET', 'GILGIE', 'GILLET', 'GILLIE', 'GINGLE', 'GINNEL', 'GITTIN', 'HEIGHT', 'HEINIE', 'HELING', 'HENNIN', 'HETING', 'HETTIE', 'HIEING', 'HIGGLE', 'HIGHTH', 'HINNIE', 'IGGING', 'IGNITE', 'ILLITE', 'INGINE', 'INNING', 'INTENT', 'INTINE', 'LEEING', 'LEGGIE', 'LEGGIN', 'LEGLIN', 'LENITE', 'LENTIL', 'LIENEE', 'LIGNIN', 'LINGEL', 'LINGLE', 'LINING', 'LINNET', 'LINTEL', 'LINTIE', 'LITING', 'LITTEN', 'LITTLE', 'NEINEI', 'NELLIE', 'NETTIE', 'NIELLI', 'NIENTE', 'NIGGLE', 'TEEING', 'TELLIN', 'TENTIE', 'THEINE', 'TIEING', 'TILING', 'TINGLE', 'TINING', 'TINNIE', 'TITTIE', 'TITTLE', 'EHING', 'EIGHT', 'EIGNE', 'ELINT', 'ELITE', 'ENLIT', 'ETTIN', 'GENIE', 'GENII', 'GIGHE', 'GILET', 'GINGE', 'GLINT', 'HEIGH', 'HIGHT', 'HINGE', 'HITHE', 'ILLTH', 'INGLE', 'INLET', 'INNIT', 'INTEL', 'INTIL', 'LEGIT', 'LENTI', 'LIEGE', 'LIGGE', 'LIGHT', 'LIGNE', 'LINEN', 'LININ', 'LITHE', 'NEIGH', 'NIGHT', 'NIHIL', 'NINTH', 'THEIN', 'THIGH', 'THILL', 'THINE', 'THING', 'TIGHT', 'TILTH', 'TINGE', 'TITHE', 'TITLE']\n"
     ]
    }
   ],
   "source": [
    "import blossom\n",
    "import pandas as pd\n",
    "MIN_WORD_LENGTH = 6\n",
    "\n",
    "all_words = blossom.get_all_words(petal_letters, mandatory_letter, MIN_WORD_LENGTH)\n",
    "print('Found %s words of at least %s characters.' % (len(all_words), MIN_WORD_LENGTH))\n",
    "print(all_words)"
   ]
  },
  {
   "cell_type": "code",
   "execution_count": 6,
   "metadata": {},
   "outputs": [
    {
     "name": "stdout",
     "output_type": "stream",
     "text": [
      "Score: 463\n"
     ]
    },
    {
     "data": {
      "text/html": [
       "<div>\n",
       "<style scoped>\n",
       "    .dataframe tbody tr th:only-of-type {\n",
       "        vertical-align: middle;\n",
       "    }\n",
       "\n",
       "    .dataframe tbody tr th {\n",
       "        vertical-align: top;\n",
       "    }\n",
       "\n",
       "    .dataframe thead th {\n",
       "        text-align: right;\n",
       "    }\n",
       "</style>\n",
       "<table border=\"1\" class=\"dataframe\">\n",
       "  <thead>\n",
       "    <tr style=\"text-align: right;\">\n",
       "      <th></th>\n",
       "      <th>word</th>\n",
       "      <th>letter</th>\n",
       "      <th>score</th>\n",
       "    </tr>\n",
       "  </thead>\n",
       "  <tbody>\n",
       "    <tr>\n",
       "      <th>0</th>\n",
       "      <td>ENLIGHTENING</td>\n",
       "      <td>N</td>\n",
       "      <td>49</td>\n",
       "    </tr>\n",
       "    <tr>\n",
       "      <th>1</th>\n",
       "      <td>LENGTHENING</td>\n",
       "      <td>N</td>\n",
       "      <td>46</td>\n",
       "    </tr>\n",
       "    <tr>\n",
       "      <th>2</th>\n",
       "      <td>HIGHLIGHTING</td>\n",
       "      <td>H</td>\n",
       "      <td>42</td>\n",
       "    </tr>\n",
       "    <tr>\n",
       "      <th>3</th>\n",
       "      <td>GEHLENITE</td>\n",
       "      <td>E</td>\n",
       "      <td>40</td>\n",
       "    </tr>\n",
       "    <tr>\n",
       "      <th>4</th>\n",
       "      <td>ENLIGHTING</td>\n",
       "      <td>G</td>\n",
       "      <td>38</td>\n",
       "    </tr>\n",
       "    <tr>\n",
       "      <th>5</th>\n",
       "      <td>LIGHTENING</td>\n",
       "      <td>G</td>\n",
       "      <td>38</td>\n",
       "    </tr>\n",
       "    <tr>\n",
       "      <th>6</th>\n",
       "      <td>EIGHTEENTH</td>\n",
       "      <td>E</td>\n",
       "      <td>36</td>\n",
       "    </tr>\n",
       "    <tr>\n",
       "      <th>7</th>\n",
       "      <td>LIGHTTIGHT</td>\n",
       "      <td>T</td>\n",
       "      <td>36</td>\n",
       "    </tr>\n",
       "    <tr>\n",
       "      <th>8</th>\n",
       "      <td>TELNETTING</td>\n",
       "      <td>T</td>\n",
       "      <td>36</td>\n",
       "    </tr>\n",
       "    <tr>\n",
       "      <th>9</th>\n",
       "      <td>GILLNETTING</td>\n",
       "      <td>L</td>\n",
       "      <td>34</td>\n",
       "    </tr>\n",
       "    <tr>\n",
       "      <th>10</th>\n",
       "      <td>HEIGHTENING</td>\n",
       "      <td>H</td>\n",
       "      <td>34</td>\n",
       "    </tr>\n",
       "    <tr>\n",
       "      <th>11</th>\n",
       "      <td>INTELLIGENT</td>\n",
       "      <td>L</td>\n",
       "      <td>34</td>\n",
       "    </tr>\n",
       "  </tbody>\n",
       "</table>\n",
       "</div>"
      ],
      "text/plain": [
       "            word letter  score\n",
       "0   ENLIGHTENING      N     49\n",
       "1    LENGTHENING      N     46\n",
       "2   HIGHLIGHTING      H     42\n",
       "3      GEHLENITE      E     40\n",
       "4     ENLIGHTING      G     38\n",
       "5     LIGHTENING      G     38\n",
       "6     EIGHTEENTH      E     36\n",
       "7     LIGHTTIGHT      T     36\n",
       "8     TELNETTING      T     36\n",
       "9    GILLNETTING      L     34\n",
       "10   HEIGHTENING      H     34\n",
       "11   INTELLIGENT      L     34"
      ]
     },
     "execution_count": 6,
     "metadata": {},
     "output_type": "execute_result"
    }
   ],
   "source": [
    "all_scores = blossom.get_scores(all_words, petal_letters, mandatory_letter)\n",
    "best_12_words = blossom.get_best_12_words(all_scores, petal_letters)\n",
    "score = 0\n",
    "for item in best_12_words:\n",
    "    score = score + item['score']\n",
    "print('Score: %s' % score)\n",
    "df = pd.DataFrame(best_12_words)\n",
    "df"
   ]
  }
 ],
 "metadata": {
  "kernelspec": {
   "display_name": "Python 3",
   "language": "python",
   "name": "python3"
  },
  "language_info": {
   "codemirror_mode": {
    "name": "ipython",
    "version": 3
   },
   "file_extension": ".py",
   "mimetype": "text/x-python",
   "name": "python",
   "nbconvert_exporter": "python",
   "pygments_lexer": "ipython3",
   "version": "3.13.0"
  }
 },
 "nbformat": 4,
 "nbformat_minor": 5
}
