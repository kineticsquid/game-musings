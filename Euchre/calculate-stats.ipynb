{
 "cells": [
  {
   "cell_type": "markdown",
   "metadata": {},
   "source": [
    "## Euchre Musings"
   ]
  },
  {
   "cell_type": "markdown",
   "metadata": {},
   "source": [
    "### Links\n",
    "- https://www.mathplanet.com/education/algebra-2/discrete-mathematics-and-probability/permutations-and-combinations\n",
    "- https://math.stackexchange.com/questions/469916/dice-probability-over-multiple-rolls"
   ]
  },
  {
   "cell_type": "code",
   "execution_count": 2,
   "metadata": {},
   "outputs": [],
   "source": [
    "import numpy as np\n",
    "import matplotlib.pyplot as plt\n",
    "import pandas as pd\n",
    "import time"
   ]
  },
  {
   "cell_type": "code",
   "execution_count": 3,
   "metadata": {},
   "outputs": [],
   "source": [
    "import compute_scores"
   ]
  },
  {
   "cell_type": "code",
   "execution_count": 4,
   "metadata": {},
   "outputs": [
    {
     "name": "stdout",
     "output_type": "stream",
     "text": [
      "Deck size: 24\n",
      "Hand size: 5\n",
      "Calculated combinations: 42504\n",
      "Enumerated combinations: 42504\n",
      "100000 combinations processed - 1.8 sec\n",
      "200000 combinations processed - 3.6 sec\n",
      "300000 combinations processed - 5.4 sec\n",
      "400000 combinations processed - 7.3 sec\n",
      "500000 combinations processed - 9.2 sec\n",
      "600000 combinations processed - 11.0 sec\n",
      "700000 combinations processed - 12.8 sec\n",
      "800000 combinations processed - 14.6 sec\n",
      "807576 combinations processed - 14.7 sec\n",
      "Deck size: 24\n",
      "All possible hands: 42504\n",
      "Dealer scores: 807576\n",
      "Non-dealer scores: 807576\n",
      "Second round scores: 807576\n"
     ]
    }
   ],
   "source": [
    "dealer_scores, non_dealer_scores, second_round_scores, deck, all_hands = compute_scores.calculate_all_possible_scores()\n",
    "print(\"Deck size: %s\" % len(deck))\n",
    "print(\"All possible hands: %s\" % len(all_hands))\n",
    "print(\"Dealer scores: %s\" % len(dealer_scores))\n",
    "print(\"Non-dealer scores: %s\" % len(non_dealer_scores))\n",
    "print(\"Second round scores: %s\" % len(second_round_scores))"
   ]
  },
  {
   "cell_type": "markdown",
   "metadata": {},
   "source": [
    "### Average Scores"
   ]
  },
  {
   "cell_type": "code",
   "execution_count": 5,
   "metadata": {},
   "outputs": [
    {
     "name": "stdout",
     "output_type": "stream",
     "text": [
      "Max dealer score: 15\n",
      "Max non-dealer score: 14\n",
      "Max second round score: 15\n",
      "\n",
      "Average dealer score: 6.6\n",
      "Average non-dealer score: 2.3\n",
      "Average second round score: 7.0\n"
     ]
    }
   ],
   "source": [
    "print(\"Max dealer score: %s\" % max(dealer_scores))\n",
    "print(\"Max non-dealer score: %s\" % max(non_dealer_scores))\n",
    "print(\"Max second round score: %s\" % max(second_round_scores))\n",
    "print()\n",
    "print(\"Average dealer score: %.1f\" % np.mean(dealer_scores))\n",
    "print(\"Average non-dealer score: %.1f\" % np.mean(non_dealer_scores))\n",
    "print(\"Average second round score: %.1f\" % np.mean(second_round_scores))"
   ]
  },
  {
   "cell_type": "markdown",
   "metadata": {},
   "source": [
    "### Farmers Odds"
   ]
  },
  {
   "cell_type": "code",
   "execution_count": 9,
   "metadata": {},
   "outputs": [
    {
     "name": "stdout",
     "output_type": "stream",
     "text": [
      "[4368, 14560, 15680, 6720, 1120, 56]\n",
      "[0.10276679841897234, 0.3425559947299078, 0.3689064558629776, 0.15810276679841898, 0.026350461133069828, 0.0013175230566534915]\n"
     ]
    },
    {
     "data": {
      "image/png": "[encoded data removed]",
      "text/plain": [
       "<Figure size 432x288 with 1 Axes>"
      ]
     },
     "metadata": {},
     "output_type": "display_data"
    }
   ],
   "source": [
    "counts = [0,0,0,0,0,0]\n",
    "for hand in all_hands:\n",
    "    n = compute_scores.number_of_9s_and_10s(hand)\n",
    "    counts[n] += 1\n",
    "print(counts)\n",
    "averages = [0,0,0,0,0,0]\n",
    "for i in range(0,6):\n",
    "    averages[i] = counts[i] / sum(counts)\n",
    "print(averages)\n",
    "\n",
    "fig1, ax1 = plt.subplots()\n",
    "labels = '0', '1', '2', '3', '4', '5'\n",
    "ax1.pie(averages, autopct='%1.f%%', shadow=True, labels=labels, normalize=False, startangle=90)\n",
    "ax1.axis('equal')  # Equal aspect ratio ensures that pie is drawn as a circle.\n",
    "plt.show()"
   ]
  },
  {
   "cell_type": "markdown",
   "metadata": {},
   "source": [
    "### Common Odds"
   ]
  },
  {
   "cell_type": "code",
   "execution_count": 10,
   "metadata": {},
   "outputs": [
    {
     "name": "stdout",
     "output_type": "stream",
     "text": [
      "Odds for any given hand:\n",
      "\tSimulation: Odds of at least one card of a suit: 79.8%\n",
      "\tBernoulli: Odds of at least one card of a suit: 76.3%\n",
      "\tSimulation: Odds of no cards of a suit: 20.2%\n",
      "\tBernoulli: Odds of no cards of a suit: 23.7%\n",
      "\tSimulation: Odds of at least one type of card, e.g. Ace: 63.5%\n",
      "\tBernoulli: Odds of at least one type of card, e.g. Ace: 59.8%\n",
      "\tSimulation: Odds of exactly one card, e.g. Ace of Hearts: 20.8%\n",
      "\tBernoulli: Odds of exactly one card, e.g. Ace of Hearts: 17.6%\n",
      "\tSimulation: Odds of at least one bower: 38.0%\n",
      "\tBernoulli: Odds of at least one bower: 34.8%\n",
      "\tSimulation: Odds of both bowers: 3.6%\n",
      "\tBernoulli: Odds of both bowers: 5.3%\n"
     ]
    }
   ],
   "source": [
    "at_least_one_of_a_suit = 0\n",
    "no_cards_of_a_suit = 0\n",
    "at_least_one_of_a_card = 0\n",
    "exactly_one_card = 0\n",
    "at_least_one_bower = 0\n",
    "both_bowers = 0\n",
    "for hand in all_hands:\n",
    "    if compute_scores.number_of_cards_in_hand('Hearts', hand) > 0:\n",
    "        at_least_one_of_a_suit += 1\n",
    "    if compute_scores.number_of_cards_in_hand('Hearts', hand) == 0:\n",
    "        no_cards_of_a_suit += 1\n",
    "    if compute_scores.number_of_cards_in_hand('Ace', hand) > 0:\n",
    "        at_least_one_of_a_card += 1\n",
    "    if compute_scores.card_in_hand(('Ace', 'Hearts'), hand):\n",
    "        exactly_one_card += 1\n",
    "    bowers = compute_scores.number_of_bowers_in_hand(hand)\n",
    "    if bowers >= 1:\n",
    "        at_least_one_bower += 1\n",
    "    if bowers == 2:\n",
    "        both_bowers += 1\n",
    "\n",
    "bernoulli_at_least_one_of_a_suit = 1 - compute_scores.bernoulli_trial(5, 0, 1/4)\n",
    "bernoulli_no_cards_of_a_suit = compute_scores.bernoulli_trial(5, 0, 1/4)\n",
    "bernoulli_at_least_one_of_a_card = 1 - compute_scores.bernoulli_trial(5, 0, 1/6)\n",
    "bernoulli_exactly_one_card = compute_scores.bernoulli_trial(5, 1, 1/24)\n",
    "bernoulli_at_least_one_bower = compute_scores.bernoulli_trial(5, 1, 1/12) + compute_scores.bernoulli_trial(5, 2, 1/12)\n",
    "bernoulli_both_bowers = compute_scores.bernoulli_trial(5, 2, 1/12)\n",
    "\n",
    "print(\"Odds for any given hand:\")\n",
    "print(\"\\tSimulation: Odds of at least one card of a suit: %.1f%%\" % (100 * at_least_one_of_a_suit / len(all_hands)))\n",
    "print(\"\\tBernoulli: Odds of at least one card of a suit: %.1f%%\" % (100 * bernoulli_at_least_one_of_a_suit))\n",
    "print(\"\\tSimulation: Odds of no cards of a suit: %.1f%%\" % (100 * no_cards_of_a_suit / len(all_hands)))\n",
    "print(\"\\tBernoulli: Odds of no cards of a suit: %.1f%%\" % (100 * bernoulli_no_cards_of_a_suit))\n",
    "print(\"\\tSimulation: Odds of at least one type of card, e.g. Ace: %.1f%%\" % (100 * at_least_one_of_a_card / len(all_hands)))\n",
    "print(\"\\tBernoulli: Odds of at least one type of card, e.g. Ace: %.1f%%\" % (100 * bernoulli_at_least_one_of_a_card))\n",
    "print(\"\\tSimulation: Odds of exactly one card, e.g. Ace of Hearts: %.1f%%\" % (100 * exactly_one_card / len(all_hands)))\n",
    "print(\"\\tBernoulli: Odds of exactly one card, e.g. Ace of Hearts: %.1f%%\" % (100 * bernoulli_exactly_one_card))\n",
    "print(\"\\tSimulation: Odds of at least one bower: %.1f%%\" % (100 * at_least_one_bower / len(all_hands)))\n",
    "print(\"\\tBernoulli: Odds of at least one bower: %.1f%%\" % (100 * bernoulli_at_least_one_bower))\n",
    "print(\"\\tSimulation: Odds of both bowers: %.1f%%\" % (100 * both_bowers / len(all_hands)))\n",
    "print(\"\\tBernoulli: Odds of both bowers: %.1f%%\" % (100 * bernoulli_both_bowers))\n",
    "    "
   ]
  },
  {
   "cell_type": "code",
   "execution_count": 11,
   "metadata": {},
   "outputs": [
    {
     "name": "stdout",
     "output_type": "stream",
     "text": [
      "\n",
      "Odds a hand has two bowers if your hand has none: 7.9%\n"
     ]
    }
   ],
   "source": [
    "odds = compute_scores.bernoulli_trial(5, 2, 2/19)\n",
    "print(\"\\nOdds a hand has two bowers if your hand has none: %.1f%%\" % (100 * odds))"
   ]
  },
  {
   "cell_type": "markdown",
   "metadata": {},
   "source": [
    "### Dealer Scores"
   ]
  },
  {
   "cell_type": "code",
   "execution_count": 12,
   "metadata": {},
   "outputs": [
    {
     "data": {
      "text/plain": [
       "Text(0.5, 1.0, 'Euchre Dealer Hand Scores')"
      ]
     },
     "execution_count": 12,
     "metadata": {},
     "output_type": "execute_result"
    },
    {
     "data": {
      "image/png": "[encoded data removed]",
      "text/plain": [
       "<Figure size 432x288 with 1 Axes>"
      ]
     },
     "metadata": {
      "needs_background": "light"
     },
     "output_type": "display_data"
    }
   ],
   "source": [
    "hist, bins, patches = plt.hist(x=dealer_scores, range=(0, max(dealer_scores)), \n",
    "                            bins=max(dealer_scores), color='#0504aa', alpha=0.7, rwidth=0.85)\n",
    "plt.grid(axis='y', alpha=0.75)\n",
    "plt.xlabel('Hand Score')\n",
    "plt.ylabel('Frequency')\n",
    "plt.title('Euchre Dealer Hand Scores')"
   ]
  },
  {
   "cell_type": "code",
   "execution_count": null,
   "metadata": {},
   "outputs": [],
   "source": [
    "print(hist)\n",
    "print(bins)\n",
    "total = sum(hist)\n",
    "cumulative_pct = 0\n",
    "table_data = []\n",
    "\n",
    "for entry in hist:\n",
    "    pct = entry / total * 100\n",
    "    cumulative_pct += pct\n",
    "    table_data.append([entry, pct, cumulative_pct])\n",
    "df = pd.DataFrame(table_data, columns=[\"Count\", \"%\", \"Cumulative %\"])\n",
    "df"
   ]
  },
  {
   "cell_type": "markdown",
   "metadata": {},
   "source": [
    "### Non-Dealer Scores"
   ]
  },
  {
   "cell_type": "code",
   "execution_count": null,
   "metadata": {},
   "outputs": [],
   "source": [
    "hist, bins, patches = plt.hist(x=non_dealer_scores, range=(0, max(non_dealer_scores)), \n",
    "                            bins=max(non_dealer_scores), color='#0504aa', alpha=0.7, rwidth=0.85)\n",
    "plt.grid(axis='y', alpha=0.75)\n",
    "plt.xlabel('Hand Score')\n",
    "plt.ylabel('Frequency')\n",
    "plt.title('Euchre Non-Dealer Hand Scores')"
   ]
  },
  {
   "cell_type": "code",
   "execution_count": null,
   "metadata": {},
   "outputs": [],
   "source": [
    "print(hist)\n",
    "print(bins)\n",
    "total = sum(hist)\n",
    "cumulative_pct = 0\n",
    "table_data = []\n",
    "\n",
    "for entry in hist:\n",
    "    pct = entry / total * 100\n",
    "    cumulative_pct += pct\n",
    "    table_data.append([entry, pct, cumulative_pct])\n",
    "df = pd.DataFrame(table_data, columns=[\"Count\", \"%\", \"Cumulative %\"])\n",
    "df"
   ]
  },
  {
   "cell_type": "markdown",
   "metadata": {},
   "source": [
    "### Second Round Scores"
   ]
  },
  {
   "cell_type": "code",
   "execution_count": null,
   "metadata": {},
   "outputs": [],
   "source": [
    "hist, bins, patches = plt.hist(x=second_round_scores, range=(0, max(second_round_scores)), \n",
    "                            bins=max(second_round_scores), color='#0504aa', alpha=0.7, rwidth=0.85)\n",
    "plt.grid(axis='y', alpha=0.75)\n",
    "plt.xlabel('Hand Score')\n",
    "plt.ylabel('Frequency')\n",
    "plt.title('Euchre Second Round Hand Scores')"
   ]
  },
  {
   "cell_type": "code",
   "execution_count": null,
   "metadata": {},
   "outputs": [],
   "source": [
    "print(hist)\n",
    "print(bins)\n",
    "total = sum(hist)\n",
    "cumulative_pct = 0\n",
    "table_data = []\n",
    "\n",
    "for entry in hist:\n",
    "    pct = entry / total * 100\n",
    "    cumulative_pct += pct\n",
    "    table_data.append([entry, pct, cumulative_pct])\n",
    "df = pd.DataFrame(table_data, columns=[\"Count\", \"%\", \"Cumulative %\"])\n",
    "df"
   ]
  },
  {
   "cell_type": "code",
   "execution_count": null,
   "metadata": {},
   "outputs": [],
   "source": []
  },
  {
   "cell_type": "code",
   "execution_count": null,
   "metadata": {},
   "outputs": [],
   "source": []
  }
 ],
 "metadata": {
  "kernelspec": {
   "display_name": "Python 3.9.7 64-bit",
   "language": "python",
   "name": "python3"
  },
  "language_info": {
   "codemirror_mode": {
    "name": "ipython",
    "version": 3
   },
   "file_extension": ".py",
   "mimetype": "text/x-python",
   "name": "python",
   "nbconvert_exporter": "python",
   "pygments_lexer": "ipython3",
   "version": "3.9.7"
  },
  "vscode": {
   "interpreter": {
    "hash": "aee8b7b246df8f9039afb4144a1f6fd8d2ca17a180786b69acc140d282b71a49"
   }
  }
 },
 "nbformat": 4,
 "nbformat_minor": 4
}
